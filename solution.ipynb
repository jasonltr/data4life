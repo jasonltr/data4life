{
 "cells": [
  {
   "cell_type": "code",
   "execution_count": 87,
   "metadata": {},
   "outputs": [
    {
     "data": {
      "text/html": [
       "<div>\n",
       "<style scoped>\n",
       "    .dataframe tbody tr th:only-of-type {\n",
       "        vertical-align: middle;\n",
       "    }\n",
       "\n",
       "    .dataframe tbody tr th {\n",
       "        vertical-align: top;\n",
       "    }\n",
       "\n",
       "    .dataframe thead th {\n",
       "        text-align: right;\n",
       "    }\n",
       "</style>\n",
       "<table border=\"1\" class=\"dataframe\">\n",
       "  <thead>\n",
       "    <tr style=\"text-align: right;\">\n",
       "      <th></th>\n",
       "      <th>doctor_id</th>\n",
       "      <th>patient_id</th>\n",
       "      <th>appointment_datetime</th>\n",
       "    </tr>\n",
       "  </thead>\n",
       "  <tbody>\n",
       "    <tr>\n",
       "      <th>0</th>\n",
       "      <td>D1</td>\n",
       "      <td>P1</td>\n",
       "      <td>08032018 09:00:00</td>\n",
       "    </tr>\n",
       "    <tr>\n",
       "      <th>1</th>\n",
       "      <td>D1</td>\n",
       "      <td>P1</td>\n",
       "      <td>08042018 10:00:00</td>\n",
       "    </tr>\n",
       "    <tr>\n",
       "      <th>2</th>\n",
       "      <td>D1</td>\n",
       "      <td>P2</td>\n",
       "      <td>08032018 10:00:00</td>\n",
       "    </tr>\n",
       "    <tr>\n",
       "      <th>3</th>\n",
       "      <td>D1</td>\n",
       "      <td>P1</td>\n",
       "      <td>08042018 11:00:00</td>\n",
       "    </tr>\n",
       "    <tr>\n",
       "      <th>4</th>\n",
       "      <td>D2</td>\n",
       "      <td>P1</td>\n",
       "      <td>18032018 08:00:00</td>\n",
       "    </tr>\n",
       "    <tr>\n",
       "      <th>5</th>\n",
       "      <td>D2</td>\n",
       "      <td>P1</td>\n",
       "      <td>18042018 09:00:00</td>\n",
       "    </tr>\n",
       "    <tr>\n",
       "      <th>6</th>\n",
       "      <td>D2</td>\n",
       "      <td>P3</td>\n",
       "      <td>18032018 09:00:00</td>\n",
       "    </tr>\n",
       "    <tr>\n",
       "      <th>7</th>\n",
       "      <td>D2</td>\n",
       "      <td>P3</td>\n",
       "      <td>18042018 10:00:00</td>\n",
       "    </tr>\n",
       "  </tbody>\n",
       "</table>\n",
       "</div>"
      ],
      "text/plain": [
       "  doctor_id patient_id appointment_datetime\n",
       "0        D1         P1    08032018 09:00:00\n",
       "1        D1         P1    08042018 10:00:00\n",
       "2        D1         P2    08032018 10:00:00\n",
       "3        D1         P1    08042018 11:00:00\n",
       "4        D2         P1    18032018 08:00:00\n",
       "5        D2         P1    18042018 09:00:00\n",
       "6        D2         P3    18032018 09:00:00\n",
       "7        D2         P3    18042018 10:00:00"
      ]
     },
     "execution_count": 87,
     "metadata": {},
     "output_type": "execute_result"
    }
   ],
   "source": [
    "# Q1:\n",
    "# Load initial data\n",
    "\n",
    "import pandas as pd\n",
    "\n",
    "data = pd.read_csv('/home/jason/Documents/GitHub/data4life/data4life/data.txt',skipinitialspace=True)\n",
    "data.iloc[:,:3]"
   ]
  },
  {
   "cell_type": "code",
   "execution_count": 88,
   "metadata": {},
   "outputs": [
    {
     "data": {
      "text/plain": [
       "doctor_id               string\n",
       "patient_id              string\n",
       "appointment_datetime    string\n",
       "dtype: object"
      ]
     },
     "execution_count": 88,
     "metadata": {},
     "output_type": "execute_result"
    }
   ],
   "source": [
    "data = data.astype('string')\n",
    "data.dtypes"
   ]
  },
  {
   "cell_type": "code",
   "execution_count": 51,
   "metadata": {},
   "outputs": [
    {
     "data": {
      "text/html": [
       "<div>\n",
       "<style scoped>\n",
       "    .dataframe tbody tr th:only-of-type {\n",
       "        vertical-align: middle;\n",
       "    }\n",
       "\n",
       "    .dataframe tbody tr th {\n",
       "        vertical-align: top;\n",
       "    }\n",
       "\n",
       "    .dataframe thead th {\n",
       "        text-align: right;\n",
       "    }\n",
       "</style>\n",
       "<table border=\"1\" class=\"dataframe\">\n",
       "  <thead>\n",
       "    <tr style=\"text-align: right;\">\n",
       "      <th></th>\n",
       "      <th>doctor_id</th>\n",
       "      <th>patient_id</th>\n",
       "      <th>appointment_datetime</th>\n",
       "      <th>concat docdate</th>\n",
       "      <th>concat patientdate</th>\n",
       "      <th>date</th>\n",
       "      <th>time</th>\n",
       "    </tr>\n",
       "  </thead>\n",
       "  <tbody>\n",
       "    <tr>\n",
       "      <th>0</th>\n",
       "      <td>D1</td>\n",
       "      <td>P1</td>\n",
       "      <td>08032018 09:00:00</td>\n",
       "      <td>D108032018 09:00:00</td>\n",
       "      <td>P108032018 09:00:00</td>\n",
       "      <td>08032018</td>\n",
       "      <td>09:00:00</td>\n",
       "    </tr>\n",
       "    <tr>\n",
       "      <th>1</th>\n",
       "      <td>D1</td>\n",
       "      <td>P1</td>\n",
       "      <td>08042018 10:00:00</td>\n",
       "      <td>D108042018 10:00:00</td>\n",
       "      <td>P108042018 10:00:00</td>\n",
       "      <td>08042018</td>\n",
       "      <td>10:00:00</td>\n",
       "    </tr>\n",
       "    <tr>\n",
       "      <th>2</th>\n",
       "      <td>D1</td>\n",
       "      <td>P2</td>\n",
       "      <td>08032018 10:00:00</td>\n",
       "      <td>D108032018 10:00:00</td>\n",
       "      <td>P208032018 10:00:00</td>\n",
       "      <td>08032018</td>\n",
       "      <td>10:00:00</td>\n",
       "    </tr>\n",
       "    <tr>\n",
       "      <th>3</th>\n",
       "      <td>D1</td>\n",
       "      <td>P1</td>\n",
       "      <td>08042018 11:00:00</td>\n",
       "      <td>D108042018 11:00:00</td>\n",
       "      <td>P108042018 11:00:00</td>\n",
       "      <td>08042018</td>\n",
       "      <td>11:00:00</td>\n",
       "    </tr>\n",
       "    <tr>\n",
       "      <th>4</th>\n",
       "      <td>D2</td>\n",
       "      <td>P1</td>\n",
       "      <td>18032018 08:00:00</td>\n",
       "      <td>D218032018 08:00:00</td>\n",
       "      <td>P118032018 08:00:00</td>\n",
       "      <td>18032018</td>\n",
       "      <td>08:00:00</td>\n",
       "    </tr>\n",
       "    <tr>\n",
       "      <th>5</th>\n",
       "      <td>D2</td>\n",
       "      <td>P1</td>\n",
       "      <td>18042018 09:00:00</td>\n",
       "      <td>D218042018 09:00:00</td>\n",
       "      <td>P118042018 09:00:00</td>\n",
       "      <td>18042018</td>\n",
       "      <td>09:00:00</td>\n",
       "    </tr>\n",
       "    <tr>\n",
       "      <th>6</th>\n",
       "      <td>D2</td>\n",
       "      <td>P3</td>\n",
       "      <td>18032018 09:00:00</td>\n",
       "      <td>D218032018 09:00:00</td>\n",
       "      <td>P318032018 09:00:00</td>\n",
       "      <td>18032018</td>\n",
       "      <td>09:00:00</td>\n",
       "    </tr>\n",
       "    <tr>\n",
       "      <th>7</th>\n",
       "      <td>D2</td>\n",
       "      <td>P3</td>\n",
       "      <td>18042018 10:00:00</td>\n",
       "      <td>D218042018 10:00:00</td>\n",
       "      <td>P318042018 10:00:00</td>\n",
       "      <td>18042018</td>\n",
       "      <td>10:00:00</td>\n",
       "    </tr>\n",
       "  </tbody>\n",
       "</table>\n",
       "</div>"
      ],
      "text/plain": [
       "  doctor_id patient_id appointment_datetime       concat docdate  \\\n",
       "0        D1         P1    08032018 09:00:00  D108032018 09:00:00   \n",
       "1        D1         P1    08042018 10:00:00  D108042018 10:00:00   \n",
       "2        D1         P2    08032018 10:00:00  D108032018 10:00:00   \n",
       "3        D1         P1    08042018 11:00:00  D108042018 11:00:00   \n",
       "4        D2         P1    18032018 08:00:00  D218032018 08:00:00   \n",
       "5        D2         P1    18042018 09:00:00  D218042018 09:00:00   \n",
       "6        D2         P3    18032018 09:00:00  D218032018 09:00:00   \n",
       "7        D2         P3    18042018 10:00:00  D218042018 10:00:00   \n",
       "\n",
       "    concat patientdate      date      time  \n",
       "0  P108032018 09:00:00  08032018  09:00:00  \n",
       "1  P108042018 10:00:00  08042018  10:00:00  \n",
       "2  P208032018 10:00:00  08032018  10:00:00  \n",
       "3  P108042018 11:00:00  08042018  11:00:00  \n",
       "4  P118032018 08:00:00  18032018  08:00:00  \n",
       "5  P118042018 09:00:00  18042018  09:00:00  \n",
       "6  P318032018 09:00:00  18032018  09:00:00  \n",
       "7  P318042018 10:00:00  18042018  10:00:00  "
      ]
     },
     "execution_count": 51,
     "metadata": {},
     "output_type": "execute_result"
    }
   ],
   "source": [
    "data['concat docdate']= data['doctor_id']+data['appointment_datetime']\n",
    "data['concat patientdate']= data['patient_id']+data['appointment_datetime']\n",
    "data[['date','time']] = data['appointment_datetime'].str.split(' ',1,expand=True)\n",
    "\n",
    "data"
   ]
  },
  {
   "cell_type": "code",
   "execution_count": 10,
   "metadata": {},
   "outputs": [
    {
     "data": {
      "text/plain": [
       "doctor_id               string\n",
       "patient_id              string\n",
       "appointment_datetime    string\n",
       "concat docdate          string\n",
       "concat patientdate      string\n",
       "date                    string\n",
       "time                    string\n",
       "dtype: object"
      ]
     },
     "execution_count": 10,
     "metadata": {},
     "output_type": "execute_result"
    }
   ],
   "source": [
    "data.dtypes"
   ]
  },
  {
   "cell_type": "code",
   "execution_count": 102,
   "metadata": {},
   "outputs": [],
   "source": [
    "# Getting inputs from the user when required\n",
    "def doc_id_input():\n",
    "    doctor = str(input('Please enter doctor id: '))\n",
    "    return doctor\n",
    "def date_input():\n",
    "    date = str(input('Please enter the date you want to check in DDMMYYYY format: '))\n",
    "    return date\n",
    "def patient_id_input():\n",
    "    patient = str(input('Please enter your patient id: '))\n",
    "    return patient\n",
    "def time_input():\n",
    "    while True:\n",
    "        time = str(input(\"Please enter your preferred time in HH:MM:SS: \"))\n",
    "        if time > '16:00:00' or time < '08:00:00':\n",
    "            print('Appointment times must be between 08:00:00 and 16:00:00')\n",
    "            continue\n",
    "        break\n",
    "    return time"
   ]
  },
  {
   "cell_type": "code",
   "execution_count": 57,
   "metadata": {},
   "outputs": [],
   "source": [
    "# Q2:\n",
    "\n",
    "# Get all appointments for the given doctor & date\n",
    "\n",
    "def check_doc_appt (doctor,date,data):\n",
    "    example = data[(data[\"doctor_id\"]== doctor) & (data[\"date\"]==date)]\n",
    "    return \"No appointment for this doctor on this date\" if example.empty else example.iloc[:,:3]\n",
    "\n"
   ]
  },
  {
   "cell_type": "code",
   "execution_count": 52,
   "metadata": {},
   "outputs": [
    {
     "data": {
      "text/plain": [
       "'No appointment for this doctor on this date'"
      ]
     },
     "execution_count": 52,
     "metadata": {},
     "output_type": "execute_result"
    }
   ],
   "source": [
    "#check with invalid entry\n",
    "check_doc_appt(doc_id_input(),date_input(),data)\n",
    "#check_doc_appt('D1','13042022',data)"
   ]
  },
  {
   "cell_type": "code",
   "execution_count": 58,
   "metadata": {},
   "outputs": [
    {
     "data": {
      "text/html": [
       "<div>\n",
       "<style scoped>\n",
       "    .dataframe tbody tr th:only-of-type {\n",
       "        vertical-align: middle;\n",
       "    }\n",
       "\n",
       "    .dataframe tbody tr th {\n",
       "        vertical-align: top;\n",
       "    }\n",
       "\n",
       "    .dataframe thead th {\n",
       "        text-align: right;\n",
       "    }\n",
       "</style>\n",
       "<table border=\"1\" class=\"dataframe\">\n",
       "  <thead>\n",
       "    <tr style=\"text-align: right;\">\n",
       "      <th></th>\n",
       "      <th>doctor_id</th>\n",
       "      <th>patient_id</th>\n",
       "      <th>appointment_datetime</th>\n",
       "    </tr>\n",
       "  </thead>\n",
       "  <tbody>\n",
       "    <tr>\n",
       "      <th>0</th>\n",
       "      <td>D1</td>\n",
       "      <td>P1</td>\n",
       "      <td>08032018 09:00:00</td>\n",
       "    </tr>\n",
       "    <tr>\n",
       "      <th>2</th>\n",
       "      <td>D1</td>\n",
       "      <td>P2</td>\n",
       "      <td>08032018 10:00:00</td>\n",
       "    </tr>\n",
       "  </tbody>\n",
       "</table>\n",
       "</div>"
      ],
      "text/plain": [
       "  doctor_id patient_id appointment_datetime\n",
       "0        D1         P1    08032018 09:00:00\n",
       "2        D1         P2    08032018 10:00:00"
      ]
     },
     "execution_count": 58,
     "metadata": {},
     "output_type": "execute_result"
    }
   ],
   "source": [
    "#check with valid entry\n",
    "check_doc_appt(doc_id_input(),date_input(),data)\n",
    "#check_doc_appt('D1','08032018',data)"
   ]
  },
  {
   "cell_type": "code",
   "execution_count": 54,
   "metadata": {},
   "outputs": [],
   "source": [
    "# Q2B\n",
    "\n",
    "# Get all appointment for given patient & date\n",
    "\n",
    "def check_patient_appt (patient,date,data):\n",
    "    example = data[(data[\"patient_id\"]== patient) & (data[\"date\"]==date)]\n",
    "    return \"You have no appointment on this date\" if example.empty else example.iloc[:,:3]\n",
    "\n",
    "def check_all_patient_appt (patient,data):\n",
    "    example = data[(data[\"patient_id\"]== patient)]\n",
    "    return \"This patient_id has no appointments\" if example.empty else example.iloc[:,:3]\n"
   ]
  },
  {
   "cell_type": "code",
   "execution_count": 55,
   "metadata": {},
   "outputs": [
    {
     "data": {
      "text/html": [
       "<div>\n",
       "<style scoped>\n",
       "    .dataframe tbody tr th:only-of-type {\n",
       "        vertical-align: middle;\n",
       "    }\n",
       "\n",
       "    .dataframe tbody tr th {\n",
       "        vertical-align: top;\n",
       "    }\n",
       "\n",
       "    .dataframe thead th {\n",
       "        text-align: right;\n",
       "    }\n",
       "</style>\n",
       "<table border=\"1\" class=\"dataframe\">\n",
       "  <thead>\n",
       "    <tr style=\"text-align: right;\">\n",
       "      <th></th>\n",
       "      <th>doctor_id</th>\n",
       "      <th>patient_id</th>\n",
       "      <th>appointment_datetime</th>\n",
       "    </tr>\n",
       "  </thead>\n",
       "  <tbody>\n",
       "    <tr>\n",
       "      <th>0</th>\n",
       "      <td>D1</td>\n",
       "      <td>P1</td>\n",
       "      <td>08032018 09:00:00</td>\n",
       "    </tr>\n",
       "  </tbody>\n",
       "</table>\n",
       "</div>"
      ],
      "text/plain": [
       "  doctor_id patient_id appointment_datetime\n",
       "0        D1         P1    08032018 09:00:00"
      ]
     },
     "execution_count": 55,
     "metadata": {},
     "output_type": "execute_result"
    }
   ],
   "source": [
    "check_patient_appt(patient_id_input(),date_input(),data)\n",
    "#check_patient_appt('P1','08032018',data)"
   ]
  },
  {
   "cell_type": "code",
   "execution_count": 27,
   "metadata": {},
   "outputs": [
    {
     "data": {
      "text/plain": [
       "'You have no appointment on this date'"
      ]
     },
     "execution_count": 27,
     "metadata": {},
     "output_type": "execute_result"
    }
   ],
   "source": [
    "check_patient_appt(patient_id_input(),date_input(),data)\n",
    "#check_patient_appt('P1','13042022',data)"
   ]
  },
  {
   "cell_type": "code",
   "execution_count": 28,
   "metadata": {},
   "outputs": [
    {
     "data": {
      "text/html": [
       "<div>\n",
       "<style scoped>\n",
       "    .dataframe tbody tr th:only-of-type {\n",
       "        vertical-align: middle;\n",
       "    }\n",
       "\n",
       "    .dataframe tbody tr th {\n",
       "        vertical-align: top;\n",
       "    }\n",
       "\n",
       "    .dataframe thead th {\n",
       "        text-align: right;\n",
       "    }\n",
       "</style>\n",
       "<table border=\"1\" class=\"dataframe\">\n",
       "  <thead>\n",
       "    <tr style=\"text-align: right;\">\n",
       "      <th></th>\n",
       "      <th>doctor_id</th>\n",
       "      <th>patient_id</th>\n",
       "      <th>appointment_datetime</th>\n",
       "      <th>concat docdate</th>\n",
       "      <th>concat patientdate</th>\n",
       "      <th>date</th>\n",
       "      <th>time</th>\n",
       "    </tr>\n",
       "  </thead>\n",
       "  <tbody>\n",
       "    <tr>\n",
       "      <th>0</th>\n",
       "      <td>D1</td>\n",
       "      <td>P1</td>\n",
       "      <td>08032018 09:00:00</td>\n",
       "      <td>D108032018 09:00:00</td>\n",
       "      <td>P108032018 09:00:00</td>\n",
       "      <td>08032018</td>\n",
       "      <td>09:00:00</td>\n",
       "    </tr>\n",
       "    <tr>\n",
       "      <th>1</th>\n",
       "      <td>D1</td>\n",
       "      <td>P1</td>\n",
       "      <td>08042018 10:00:00</td>\n",
       "      <td>D108042018 10:00:00</td>\n",
       "      <td>P108042018 10:00:00</td>\n",
       "      <td>08042018</td>\n",
       "      <td>10:00:00</td>\n",
       "    </tr>\n",
       "    <tr>\n",
       "      <th>3</th>\n",
       "      <td>D1</td>\n",
       "      <td>P1</td>\n",
       "      <td>08042018 11:00:00</td>\n",
       "      <td>D108042018 11:00:00</td>\n",
       "      <td>P108042018 11:00:00</td>\n",
       "      <td>08042018</td>\n",
       "      <td>11:00:00</td>\n",
       "    </tr>\n",
       "    <tr>\n",
       "      <th>4</th>\n",
       "      <td>D2</td>\n",
       "      <td>P1</td>\n",
       "      <td>18032018 08:00:00</td>\n",
       "      <td>D218032018 08:00:00</td>\n",
       "      <td>P118032018 08:00:00</td>\n",
       "      <td>18032018</td>\n",
       "      <td>08:00:00</td>\n",
       "    </tr>\n",
       "    <tr>\n",
       "      <th>5</th>\n",
       "      <td>D2</td>\n",
       "      <td>P1</td>\n",
       "      <td>18042018 09:00:00</td>\n",
       "      <td>D218042018 09:00:00</td>\n",
       "      <td>P118042018 09:00:00</td>\n",
       "      <td>18042018</td>\n",
       "      <td>09:00:00</td>\n",
       "    </tr>\n",
       "  </tbody>\n",
       "</table>\n",
       "</div>"
      ],
      "text/plain": [
       "  doctor_id patient_id appointment_datetime       concat docdate  \\\n",
       "0        D1         P1    08032018 09:00:00  D108032018 09:00:00   \n",
       "1        D1         P1    08042018 10:00:00  D108042018 10:00:00   \n",
       "3        D1         P1    08042018 11:00:00  D108042018 11:00:00   \n",
       "4        D2         P1    18032018 08:00:00  D218032018 08:00:00   \n",
       "5        D2         P1    18042018 09:00:00  D218042018 09:00:00   \n",
       "\n",
       "    concat patientdate      date      time  \n",
       "0  P108032018 09:00:00  08032018  09:00:00  \n",
       "1  P108042018 10:00:00  08042018  10:00:00  \n",
       "3  P108042018 11:00:00  08042018  11:00:00  \n",
       "4  P118032018 08:00:00  18032018  08:00:00  \n",
       "5  P118042018 09:00:00  18042018  09:00:00  "
      ]
     },
     "execution_count": 28,
     "metadata": {},
     "output_type": "execute_result"
    }
   ],
   "source": [
    "check_all_patient_appt(patient_id_input(),data)\n",
    "#check_patient_appt('P1',data)"
   ]
  },
  {
   "cell_type": "code",
   "execution_count": 31,
   "metadata": {},
   "outputs": [
    {
     "data": {
      "text/plain": [
       "'This patient_id has no appointments'"
      ]
     },
     "execution_count": 31,
     "metadata": {},
     "output_type": "execute_result"
    }
   ],
   "source": [
    "check_all_patient_appt(patient_id_input(),data)\n",
    "#check_patient_appt('P5',data)"
   ]
  },
  {
   "cell_type": "code",
   "execution_count": 148,
   "metadata": {},
   "outputs": [
    {
     "data": {
      "text/html": [
       "<div>\n",
       "<style scoped>\n",
       "    .dataframe tbody tr th:only-of-type {\n",
       "        vertical-align: middle;\n",
       "    }\n",
       "\n",
       "    .dataframe tbody tr th {\n",
       "        vertical-align: top;\n",
       "    }\n",
       "\n",
       "    .dataframe thead th {\n",
       "        text-align: right;\n",
       "    }\n",
       "</style>\n",
       "<table border=\"1\" class=\"dataframe\">\n",
       "  <thead>\n",
       "    <tr style=\"text-align: right;\">\n",
       "      <th></th>\n",
       "      <th>doctor_id</th>\n",
       "      <th>patient_id</th>\n",
       "      <th>appointment_datetime</th>\n",
       "      <th>concat docdate</th>\n",
       "      <th>concat patientdate</th>\n",
       "      <th>date</th>\n",
       "      <th>time</th>\n",
       "    </tr>\n",
       "  </thead>\n",
       "  <tbody>\n",
       "    <tr>\n",
       "      <th>8</th>\n",
       "      <td>D1</td>\n",
       "      <td>P1</td>\n",
       "      <td>11042022 10:00:00</td>\n",
       "      <td>D111042022 10:00:00</td>\n",
       "      <td>P111042022 10:00:00</td>\n",
       "      <td>11042022</td>\n",
       "      <td>10:00:00</td>\n",
       "    </tr>\n",
       "  </tbody>\n",
       "</table>\n",
       "</div>"
      ],
      "text/plain": [
       "  doctor_id patient_id appointment_datetime       concat docdate  \\\n",
       "8        D1         P1    11042022 10:00:00  D111042022 10:00:00   \n",
       "\n",
       "    concat patientdate      date      time  \n",
       "8  P111042022 10:00:00  11042022  10:00:00  "
      ]
     },
     "execution_count": 148,
     "metadata": {},
     "output_type": "execute_result"
    }
   ],
   "source": [
    "#using data = data.drop() to delete appointment\n",
    "doctor = 'D1'\n",
    "patient = 'P1'\n",
    "date = '11042022'\n",
    "time = '10:00:00'\n",
    "\n",
    "data[(data['doctor_id']==doctor) & (data[\"patient_id\"]== patient) & (data[\"date\"]==date) & (data[\"time\"]==time)]"
   ]
  },
  {
   "cell_type": "code",
   "execution_count": 109,
   "metadata": {},
   "outputs": [],
   "source": [
    "#delete entry based on input\n",
    "data = data.drop(data[(data['doctor_id']==doctor) & (data[\"patient_id\"]== patient) & (data[\"date\"]==date) & (data[\"time\"]==time)].index)"
   ]
  },
  {
   "cell_type": "code",
   "execution_count": 36,
   "metadata": {},
   "outputs": [],
   "source": [
    "# Q3:\n",
    "\n",
    "# Patient makes an appointment by selecting doctor and date and time\n",
    "\n",
    "def make_appt(doctor,patient,date,time,data):  \n",
    "    if doctor+date+' '+time in data['concat docdate'].values:\n",
    "        return 'Doctor is not available at this specific date and time',check_doc_appt(doctor,date,data)\n",
    "    elif patient+date+' '+time in data['concat patientdate'].values:\n",
    "        return 'You already have another appointment at this specific date and time',check_patient_appt(patient,date,data)\n",
    "    else:\n",
    "        data.loc[data.shape[0]] = [doctor,patient,date+' '+time,doctor+date+' '+time,patient+date+' '+time,date,time,]\n",
    "        return 'Appointment created!', check_patient_appt(patient,date,data)\n"
   ]
  },
  {
   "cell_type": "code",
   "execution_count": 59,
   "metadata": {},
   "outputs": [
    {
     "data": {
      "text/plain": [
       "('Doctor is not available at this specific date and time',\n",
       "   doctor_id patient_id appointment_datetime\n",
       " 0        D1         P1    08032018 09:00:00\n",
       " 2        D1         P2    08032018 10:00:00)"
      ]
     },
     "execution_count": 59,
     "metadata": {},
     "output_type": "execute_result"
    }
   ],
   "source": [
    "#make_appt('D1','P1','08032018','09:00:00',data)\n",
    "make_appt(doc_id_input(),patient_id_input(),date_input(),time_input(),data)"
   ]
  },
  {
   "cell_type": "code",
   "execution_count": 60,
   "metadata": {},
   "outputs": [
    {
     "data": {
      "text/plain": [
       "('You already have another appointment at this specific date and time',\n",
       "   doctor_id patient_id appointment_datetime\n",
       " 4        D2         P1    18032018 08:00:00)"
      ]
     },
     "execution_count": 60,
     "metadata": {},
     "output_type": "execute_result"
    }
   ],
   "source": [
    "#make_appt('D1','P1','18032018','08:00:00',data)\n",
    "make_appt(doc_id_input(),patient_id_input(),date_input(),time_input(),data)"
   ]
  },
  {
   "cell_type": "code",
   "execution_count": 61,
   "metadata": {},
   "outputs": [
    {
     "data": {
      "text/plain": [
       "('Appointment created!',\n",
       "   doctor_id patient_id appointment_datetime\n",
       " 8        D1         P1    22042022 08:00:00)"
      ]
     },
     "execution_count": 61,
     "metadata": {},
     "output_type": "execute_result"
    }
   ],
   "source": [
    "#make_appt('D1','P1','11042022','10:00:00',data)\n",
    "make_appt(doc_id_input(),patient_id_input(),date_input(),time_input(),data)"
   ]
  },
  {
   "cell_type": "code",
   "execution_count": 64,
   "metadata": {},
   "outputs": [
    {
     "data": {
      "text/html": [
       "<div>\n",
       "<style scoped>\n",
       "    .dataframe tbody tr th:only-of-type {\n",
       "        vertical-align: middle;\n",
       "    }\n",
       "\n",
       "    .dataframe tbody tr th {\n",
       "        vertical-align: top;\n",
       "    }\n",
       "\n",
       "    .dataframe thead th {\n",
       "        text-align: right;\n",
       "    }\n",
       "</style>\n",
       "<table border=\"1\" class=\"dataframe\">\n",
       "  <thead>\n",
       "    <tr style=\"text-align: right;\">\n",
       "      <th></th>\n",
       "      <th>doctor_id</th>\n",
       "      <th>patient_id</th>\n",
       "      <th>appointment_datetime</th>\n",
       "    </tr>\n",
       "  </thead>\n",
       "  <tbody>\n",
       "    <tr>\n",
       "      <th>0</th>\n",
       "      <td>D1</td>\n",
       "      <td>P1</td>\n",
       "      <td>08032018 09:00:00</td>\n",
       "    </tr>\n",
       "    <tr>\n",
       "      <th>1</th>\n",
       "      <td>D1</td>\n",
       "      <td>P1</td>\n",
       "      <td>08042018 10:00:00</td>\n",
       "    </tr>\n",
       "    <tr>\n",
       "      <th>2</th>\n",
       "      <td>D1</td>\n",
       "      <td>P2</td>\n",
       "      <td>08032018 10:00:00</td>\n",
       "    </tr>\n",
       "    <tr>\n",
       "      <th>3</th>\n",
       "      <td>D1</td>\n",
       "      <td>P1</td>\n",
       "      <td>08042018 11:00:00</td>\n",
       "    </tr>\n",
       "    <tr>\n",
       "      <th>4</th>\n",
       "      <td>D2</td>\n",
       "      <td>P1</td>\n",
       "      <td>18032018 08:00:00</td>\n",
       "    </tr>\n",
       "    <tr>\n",
       "      <th>5</th>\n",
       "      <td>D2</td>\n",
       "      <td>P1</td>\n",
       "      <td>18042018 09:00:00</td>\n",
       "    </tr>\n",
       "    <tr>\n",
       "      <th>6</th>\n",
       "      <td>D2</td>\n",
       "      <td>P3</td>\n",
       "      <td>18032018 09:00:00</td>\n",
       "    </tr>\n",
       "    <tr>\n",
       "      <th>7</th>\n",
       "      <td>D2</td>\n",
       "      <td>P3</td>\n",
       "      <td>18042018 10:00:00</td>\n",
       "    </tr>\n",
       "    <tr>\n",
       "      <th>8</th>\n",
       "      <td>D1</td>\n",
       "      <td>P1</td>\n",
       "      <td>22042022 08:00:00</td>\n",
       "    </tr>\n",
       "  </tbody>\n",
       "</table>\n",
       "</div>"
      ],
      "text/plain": [
       "  doctor_id patient_id appointment_datetime\n",
       "0        D1         P1    08032018 09:00:00\n",
       "1        D1         P1    08042018 10:00:00\n",
       "2        D1         P2    08032018 10:00:00\n",
       "3        D1         P1    08042018 11:00:00\n",
       "4        D2         P1    18032018 08:00:00\n",
       "5        D2         P1    18042018 09:00:00\n",
       "6        D2         P3    18032018 09:00:00\n",
       "7        D2         P3    18042018 10:00:00\n",
       "8        D1         P1    22042022 08:00:00"
      ]
     },
     "execution_count": 64,
     "metadata": {},
     "output_type": "execute_result"
    }
   ],
   "source": [
    "data.iloc[:,:3]"
   ]
  },
  {
   "cell_type": "code",
   "execution_count": 65,
   "metadata": {},
   "outputs": [
    {
     "data": {
      "text/html": [
       "<div>\n",
       "<style scoped>\n",
       "    .dataframe tbody tr th:only-of-type {\n",
       "        vertical-align: middle;\n",
       "    }\n",
       "\n",
       "    .dataframe tbody tr th {\n",
       "        vertical-align: top;\n",
       "    }\n",
       "\n",
       "    .dataframe thead th {\n",
       "        text-align: right;\n",
       "    }\n",
       "</style>\n",
       "<table border=\"1\" class=\"dataframe\">\n",
       "  <thead>\n",
       "    <tr style=\"text-align: right;\">\n",
       "      <th></th>\n",
       "      <th>doctor_id</th>\n",
       "      <th>patient_id</th>\n",
       "      <th>appointment_datetime</th>\n",
       "    </tr>\n",
       "  </thead>\n",
       "  <tbody>\n",
       "    <tr>\n",
       "      <th>0</th>\n",
       "      <td>D1</td>\n",
       "      <td>P1</td>\n",
       "      <td>08032018 09:00:00</td>\n",
       "    </tr>\n",
       "    <tr>\n",
       "      <th>1</th>\n",
       "      <td>D1</td>\n",
       "      <td>P1</td>\n",
       "      <td>08042018 10:00:00</td>\n",
       "    </tr>\n",
       "    <tr>\n",
       "      <th>3</th>\n",
       "      <td>D1</td>\n",
       "      <td>P1</td>\n",
       "      <td>08042018 11:00:00</td>\n",
       "    </tr>\n",
       "    <tr>\n",
       "      <th>4</th>\n",
       "      <td>D2</td>\n",
       "      <td>P1</td>\n",
       "      <td>18032018 08:00:00</td>\n",
       "    </tr>\n",
       "    <tr>\n",
       "      <th>5</th>\n",
       "      <td>D2</td>\n",
       "      <td>P1</td>\n",
       "      <td>18042018 09:00:00</td>\n",
       "    </tr>\n",
       "    <tr>\n",
       "      <th>8</th>\n",
       "      <td>D1</td>\n",
       "      <td>P1</td>\n",
       "      <td>22042022 08:00:00</td>\n",
       "    </tr>\n",
       "  </tbody>\n",
       "</table>\n",
       "</div>"
      ],
      "text/plain": [
       "  doctor_id patient_id appointment_datetime\n",
       "0        D1         P1    08032018 09:00:00\n",
       "1        D1         P1    08042018 10:00:00\n",
       "3        D1         P1    08042018 11:00:00\n",
       "4        D2         P1    18032018 08:00:00\n",
       "5        D2         P1    18042018 09:00:00\n",
       "8        D1         P1    22042022 08:00:00"
      ]
     },
     "execution_count": 65,
     "metadata": {},
     "output_type": "execute_result"
    }
   ],
   "source": [
    "check_all_patient_appt('P1',data)"
   ]
  },
  {
   "cell_type": "code",
   "execution_count": 41,
   "metadata": {},
   "outputs": [],
   "source": [
    "# Q4:\n",
    "\n",
    "# Patient cancels appointment by selecting doctor and date & time\n",
    "\n",
    "def delete_appt_patient (doctor,patient,date,time,data):\n",
    "    if patient+date+' '+time not in data['concat patientdate'].values:\n",
    "        return 'You have no such appointment',check_all_patient_appt(patient,data),data\n",
    "    else:\n",
    "        data = data.drop(data[(data['doctor_id']==doctor) & (data[\"patient_id\"]== patient) & (data[\"date\"]==date) & (data[\"time\"]==time)].index)\n",
    "        return 'Appointment cancelled, these are your existing appointments',check_all_patient_appt(patient,data),data"
   ]
  },
  {
   "cell_type": "code",
   "execution_count": 66,
   "metadata": {},
   "outputs": [
    {
     "data": {
      "text/plain": [
       "('Appointment cancelled, these are your existing appointments',\n",
       "   doctor_id patient_id appointment_datetime\n",
       " 0        D1         P1    08032018 09:00:00\n",
       " 1        D1         P1    08042018 10:00:00\n",
       " 3        D1         P1    08042018 11:00:00\n",
       " 4        D2         P1    18032018 08:00:00\n",
       " 5        D2         P1    18042018 09:00:00,\n",
       "   doctor_id patient_id appointment_datetime       concat docdate  \\\n",
       " 0        D1         P1    08032018 09:00:00  D108032018 09:00:00   \n",
       " 1        D1         P1    08042018 10:00:00  D108042018 10:00:00   \n",
       " 2        D1         P2    08032018 10:00:00  D108032018 10:00:00   \n",
       " 3        D1         P1    08042018 11:00:00  D108042018 11:00:00   \n",
       " 4        D2         P1    18032018 08:00:00  D218032018 08:00:00   \n",
       " 5        D2         P1    18042018 09:00:00  D218042018 09:00:00   \n",
       " 6        D2         P3    18032018 09:00:00  D218032018 09:00:00   \n",
       " 7        D2         P3    18042018 10:00:00  D218042018 10:00:00   \n",
       " \n",
       "     concat patientdate      date      time  \n",
       " 0  P108032018 09:00:00  08032018  09:00:00  \n",
       " 1  P108042018 10:00:00  08042018  10:00:00  \n",
       " 2  P208032018 10:00:00  08032018  10:00:00  \n",
       " 3  P108042018 11:00:00  08042018  11:00:00  \n",
       " 4  P118032018 08:00:00  18032018  08:00:00  \n",
       " 5  P118042018 09:00:00  18042018  09:00:00  \n",
       " 6  P318032018 09:00:00  18032018  09:00:00  \n",
       " 7  P318042018 10:00:00  18042018  10:00:00  )"
      ]
     },
     "execution_count": 66,
     "metadata": {},
     "output_type": "execute_result"
    }
   ],
   "source": [
    "delete_appt_patient(doc_id_input(),patient_id_input(),date_input(),time_input(),data)"
   ]
  },
  {
   "cell_type": "code",
   "execution_count": 68,
   "metadata": {},
   "outputs": [],
   "source": [
    "text,check,data = delete_appt_patient(doc_id_input(),patient_id_input(),date_input(),time_input(),data)"
   ]
  },
  {
   "cell_type": "code",
   "execution_count": 69,
   "metadata": {},
   "outputs": [
    {
     "data": {
      "text/plain": [
       "'Appointment cancelled, these are your existing appointments'"
      ]
     },
     "execution_count": 69,
     "metadata": {},
     "output_type": "execute_result"
    }
   ],
   "source": [
    "text"
   ]
  },
  {
   "cell_type": "code",
   "execution_count": 70,
   "metadata": {},
   "outputs": [
    {
     "data": {
      "text/html": [
       "<div>\n",
       "<style scoped>\n",
       "    .dataframe tbody tr th:only-of-type {\n",
       "        vertical-align: middle;\n",
       "    }\n",
       "\n",
       "    .dataframe tbody tr th {\n",
       "        vertical-align: top;\n",
       "    }\n",
       "\n",
       "    .dataframe thead th {\n",
       "        text-align: right;\n",
       "    }\n",
       "</style>\n",
       "<table border=\"1\" class=\"dataframe\">\n",
       "  <thead>\n",
       "    <tr style=\"text-align: right;\">\n",
       "      <th></th>\n",
       "      <th>doctor_id</th>\n",
       "      <th>patient_id</th>\n",
       "      <th>appointment_datetime</th>\n",
       "    </tr>\n",
       "  </thead>\n",
       "  <tbody>\n",
       "    <tr>\n",
       "      <th>0</th>\n",
       "      <td>D1</td>\n",
       "      <td>P1</td>\n",
       "      <td>08032018 09:00:00</td>\n",
       "    </tr>\n",
       "    <tr>\n",
       "      <th>1</th>\n",
       "      <td>D1</td>\n",
       "      <td>P1</td>\n",
       "      <td>08042018 10:00:00</td>\n",
       "    </tr>\n",
       "    <tr>\n",
       "      <th>3</th>\n",
       "      <td>D1</td>\n",
       "      <td>P1</td>\n",
       "      <td>08042018 11:00:00</td>\n",
       "    </tr>\n",
       "    <tr>\n",
       "      <th>4</th>\n",
       "      <td>D2</td>\n",
       "      <td>P1</td>\n",
       "      <td>18032018 08:00:00</td>\n",
       "    </tr>\n",
       "    <tr>\n",
       "      <th>5</th>\n",
       "      <td>D2</td>\n",
       "      <td>P1</td>\n",
       "      <td>18042018 09:00:00</td>\n",
       "    </tr>\n",
       "  </tbody>\n",
       "</table>\n",
       "</div>"
      ],
      "text/plain": [
       "  doctor_id patient_id appointment_datetime\n",
       "0        D1         P1    08032018 09:00:00\n",
       "1        D1         P1    08042018 10:00:00\n",
       "3        D1         P1    08042018 11:00:00\n",
       "4        D2         P1    18032018 08:00:00\n",
       "5        D2         P1    18042018 09:00:00"
      ]
     },
     "execution_count": 70,
     "metadata": {},
     "output_type": "execute_result"
    }
   ],
   "source": [
    "check"
   ]
  },
  {
   "cell_type": "code",
   "execution_count": 71,
   "metadata": {},
   "outputs": [
    {
     "data": {
      "text/html": [
       "<div>\n",
       "<style scoped>\n",
       "    .dataframe tbody tr th:only-of-type {\n",
       "        vertical-align: middle;\n",
       "    }\n",
       "\n",
       "    .dataframe tbody tr th {\n",
       "        vertical-align: top;\n",
       "    }\n",
       "\n",
       "    .dataframe thead th {\n",
       "        text-align: right;\n",
       "    }\n",
       "</style>\n",
       "<table border=\"1\" class=\"dataframe\">\n",
       "  <thead>\n",
       "    <tr style=\"text-align: right;\">\n",
       "      <th></th>\n",
       "      <th>doctor_id</th>\n",
       "      <th>patient_id</th>\n",
       "      <th>appointment_datetime</th>\n",
       "      <th>concat docdate</th>\n",
       "      <th>concat patientdate</th>\n",
       "      <th>date</th>\n",
       "      <th>time</th>\n",
       "    </tr>\n",
       "  </thead>\n",
       "  <tbody>\n",
       "    <tr>\n",
       "      <th>0</th>\n",
       "      <td>D1</td>\n",
       "      <td>P1</td>\n",
       "      <td>08032018 09:00:00</td>\n",
       "      <td>D108032018 09:00:00</td>\n",
       "      <td>P108032018 09:00:00</td>\n",
       "      <td>08032018</td>\n",
       "      <td>09:00:00</td>\n",
       "    </tr>\n",
       "    <tr>\n",
       "      <th>1</th>\n",
       "      <td>D1</td>\n",
       "      <td>P1</td>\n",
       "      <td>08042018 10:00:00</td>\n",
       "      <td>D108042018 10:00:00</td>\n",
       "      <td>P108042018 10:00:00</td>\n",
       "      <td>08042018</td>\n",
       "      <td>10:00:00</td>\n",
       "    </tr>\n",
       "    <tr>\n",
       "      <th>2</th>\n",
       "      <td>D1</td>\n",
       "      <td>P2</td>\n",
       "      <td>08032018 10:00:00</td>\n",
       "      <td>D108032018 10:00:00</td>\n",
       "      <td>P208032018 10:00:00</td>\n",
       "      <td>08032018</td>\n",
       "      <td>10:00:00</td>\n",
       "    </tr>\n",
       "    <tr>\n",
       "      <th>3</th>\n",
       "      <td>D1</td>\n",
       "      <td>P1</td>\n",
       "      <td>08042018 11:00:00</td>\n",
       "      <td>D108042018 11:00:00</td>\n",
       "      <td>P108042018 11:00:00</td>\n",
       "      <td>08042018</td>\n",
       "      <td>11:00:00</td>\n",
       "    </tr>\n",
       "    <tr>\n",
       "      <th>4</th>\n",
       "      <td>D2</td>\n",
       "      <td>P1</td>\n",
       "      <td>18032018 08:00:00</td>\n",
       "      <td>D218032018 08:00:00</td>\n",
       "      <td>P118032018 08:00:00</td>\n",
       "      <td>18032018</td>\n",
       "      <td>08:00:00</td>\n",
       "    </tr>\n",
       "    <tr>\n",
       "      <th>5</th>\n",
       "      <td>D2</td>\n",
       "      <td>P1</td>\n",
       "      <td>18042018 09:00:00</td>\n",
       "      <td>D218042018 09:00:00</td>\n",
       "      <td>P118042018 09:00:00</td>\n",
       "      <td>18042018</td>\n",
       "      <td>09:00:00</td>\n",
       "    </tr>\n",
       "    <tr>\n",
       "      <th>6</th>\n",
       "      <td>D2</td>\n",
       "      <td>P3</td>\n",
       "      <td>18032018 09:00:00</td>\n",
       "      <td>D218032018 09:00:00</td>\n",
       "      <td>P318032018 09:00:00</td>\n",
       "      <td>18032018</td>\n",
       "      <td>09:00:00</td>\n",
       "    </tr>\n",
       "    <tr>\n",
       "      <th>7</th>\n",
       "      <td>D2</td>\n",
       "      <td>P3</td>\n",
       "      <td>18042018 10:00:00</td>\n",
       "      <td>D218042018 10:00:00</td>\n",
       "      <td>P318042018 10:00:00</td>\n",
       "      <td>18042018</td>\n",
       "      <td>10:00:00</td>\n",
       "    </tr>\n",
       "  </tbody>\n",
       "</table>\n",
       "</div>"
      ],
      "text/plain": [
       "  doctor_id patient_id appointment_datetime       concat docdate  \\\n",
       "0        D1         P1    08032018 09:00:00  D108032018 09:00:00   \n",
       "1        D1         P1    08042018 10:00:00  D108042018 10:00:00   \n",
       "2        D1         P2    08032018 10:00:00  D108032018 10:00:00   \n",
       "3        D1         P1    08042018 11:00:00  D108042018 11:00:00   \n",
       "4        D2         P1    18032018 08:00:00  D218032018 08:00:00   \n",
       "5        D2         P1    18042018 09:00:00  D218042018 09:00:00   \n",
       "6        D2         P3    18032018 09:00:00  D218032018 09:00:00   \n",
       "7        D2         P3    18042018 10:00:00  D218042018 10:00:00   \n",
       "\n",
       "    concat patientdate      date      time  \n",
       "0  P108032018 09:00:00  08032018  09:00:00  \n",
       "1  P108042018 10:00:00  08042018  10:00:00  \n",
       "2  P208032018 10:00:00  08032018  10:00:00  \n",
       "3  P108042018 11:00:00  08042018  11:00:00  \n",
       "4  P118032018 08:00:00  18032018  08:00:00  \n",
       "5  P118042018 09:00:00  18042018  09:00:00  \n",
       "6  P318032018 09:00:00  18032018  09:00:00  \n",
       "7  P318042018 10:00:00  18042018  10:00:00  "
      ]
     },
     "execution_count": 71,
     "metadata": {},
     "output_type": "execute_result"
    }
   ],
   "source": [
    "data"
   ]
  },
  {
   "cell_type": "code",
   "execution_count": 72,
   "metadata": {},
   "outputs": [
    {
     "data": {
      "text/html": [
       "<div>\n",
       "<style scoped>\n",
       "    .dataframe tbody tr th:only-of-type {\n",
       "        vertical-align: middle;\n",
       "    }\n",
       "\n",
       "    .dataframe tbody tr th {\n",
       "        vertical-align: top;\n",
       "    }\n",
       "\n",
       "    .dataframe thead th {\n",
       "        text-align: right;\n",
       "    }\n",
       "</style>\n",
       "<table border=\"1\" class=\"dataframe\">\n",
       "  <thead>\n",
       "    <tr style=\"text-align: right;\">\n",
       "      <th></th>\n",
       "      <th>doctor_id</th>\n",
       "      <th>patient_id</th>\n",
       "      <th>appointment_datetime</th>\n",
       "    </tr>\n",
       "  </thead>\n",
       "  <tbody>\n",
       "    <tr>\n",
       "      <th>0</th>\n",
       "      <td>D1</td>\n",
       "      <td>P1</td>\n",
       "      <td>08032018 09:00:00</td>\n",
       "    </tr>\n",
       "    <tr>\n",
       "      <th>1</th>\n",
       "      <td>D1</td>\n",
       "      <td>P1</td>\n",
       "      <td>08042018 10:00:00</td>\n",
       "    </tr>\n",
       "    <tr>\n",
       "      <th>2</th>\n",
       "      <td>D1</td>\n",
       "      <td>P2</td>\n",
       "      <td>08032018 10:00:00</td>\n",
       "    </tr>\n",
       "    <tr>\n",
       "      <th>3</th>\n",
       "      <td>D1</td>\n",
       "      <td>P1</td>\n",
       "      <td>08042018 11:00:00</td>\n",
       "    </tr>\n",
       "    <tr>\n",
       "      <th>4</th>\n",
       "      <td>D2</td>\n",
       "      <td>P1</td>\n",
       "      <td>18032018 08:00:00</td>\n",
       "    </tr>\n",
       "    <tr>\n",
       "      <th>5</th>\n",
       "      <td>D2</td>\n",
       "      <td>P1</td>\n",
       "      <td>18042018 09:00:00</td>\n",
       "    </tr>\n",
       "    <tr>\n",
       "      <th>6</th>\n",
       "      <td>D2</td>\n",
       "      <td>P3</td>\n",
       "      <td>18032018 09:00:00</td>\n",
       "    </tr>\n",
       "    <tr>\n",
       "      <th>7</th>\n",
       "      <td>D2</td>\n",
       "      <td>P3</td>\n",
       "      <td>18042018 10:00:00</td>\n",
       "    </tr>\n",
       "  </tbody>\n",
       "</table>\n",
       "</div>"
      ],
      "text/plain": [
       "  doctor_id patient_id appointment_datetime\n",
       "0        D1         P1    08032018 09:00:00\n",
       "1        D1         P1    08042018 10:00:00\n",
       "2        D1         P2    08032018 10:00:00\n",
       "3        D1         P1    08042018 11:00:00\n",
       "4        D2         P1    18032018 08:00:00\n",
       "5        D2         P1    18042018 09:00:00\n",
       "6        D2         P3    18032018 09:00:00\n",
       "7        D2         P3    18042018 10:00:00"
      ]
     },
     "execution_count": 72,
     "metadata": {},
     "output_type": "execute_result"
    }
   ],
   "source": [
    "data.iloc[:,:3]"
   ]
  },
  {
   "cell_type": "code",
   "execution_count": 93,
   "metadata": {},
   "outputs": [
    {
     "name": "stdout",
     "output_type": "stream",
     "text": [
      "time.struct_time(tm_year=1900, tm_mon=1, tm_mday=1, tm_hour=8, tm_min=0, tm_sec=0, tm_wday=0, tm_yday=1, tm_isdst=-1)\n"
     ]
    }
   ],
   "source": [
    "import time\n",
    "import datetime as dt\n",
    "time_obj = time.strptime(time_input(),\"%H:%M:%S\")\n",
    "\n",
    "print(time_obj)"
   ]
  },
  {
   "cell_type": "code",
   "execution_count": 89,
   "metadata": {},
   "outputs": [],
   "source": [
    "data['appointment_datetime'] = pd.to_datetime(data['appointment_datetime'],format=\"%d%m%Y %H:%M:%S\")"
   ]
  },
  {
   "cell_type": "code",
   "execution_count": 90,
   "metadata": {},
   "outputs": [
    {
     "data": {
      "text/plain": [
       "doctor_id                       string\n",
       "patient_id                      string\n",
       "appointment_datetime    datetime64[ns]\n",
       "dtype: object"
      ]
     },
     "execution_count": 90,
     "metadata": {},
     "output_type": "execute_result"
    }
   ],
   "source": [
    "data.dtypes"
   ]
  },
  {
   "cell_type": "code",
   "execution_count": 91,
   "metadata": {},
   "outputs": [
    {
     "data": {
      "text/html": [
       "<div>\n",
       "<style scoped>\n",
       "    .dataframe tbody tr th:only-of-type {\n",
       "        vertical-align: middle;\n",
       "    }\n",
       "\n",
       "    .dataframe tbody tr th {\n",
       "        vertical-align: top;\n",
       "    }\n",
       "\n",
       "    .dataframe thead th {\n",
       "        text-align: right;\n",
       "    }\n",
       "</style>\n",
       "<table border=\"1\" class=\"dataframe\">\n",
       "  <thead>\n",
       "    <tr style=\"text-align: right;\">\n",
       "      <th></th>\n",
       "      <th>doctor_id</th>\n",
       "      <th>patient_id</th>\n",
       "      <th>appointment_datetime</th>\n",
       "    </tr>\n",
       "  </thead>\n",
       "  <tbody>\n",
       "    <tr>\n",
       "      <th>0</th>\n",
       "      <td>D1</td>\n",
       "      <td>P1</td>\n",
       "      <td>2018-03-08 09:00:00</td>\n",
       "    </tr>\n",
       "    <tr>\n",
       "      <th>1</th>\n",
       "      <td>D1</td>\n",
       "      <td>P1</td>\n",
       "      <td>2018-04-08 10:00:00</td>\n",
       "    </tr>\n",
       "    <tr>\n",
       "      <th>2</th>\n",
       "      <td>D1</td>\n",
       "      <td>P2</td>\n",
       "      <td>2018-03-08 10:00:00</td>\n",
       "    </tr>\n",
       "    <tr>\n",
       "      <th>3</th>\n",
       "      <td>D1</td>\n",
       "      <td>P1</td>\n",
       "      <td>2018-04-08 11:00:00</td>\n",
       "    </tr>\n",
       "    <tr>\n",
       "      <th>4</th>\n",
       "      <td>D2</td>\n",
       "      <td>P1</td>\n",
       "      <td>2018-03-18 08:00:00</td>\n",
       "    </tr>\n",
       "    <tr>\n",
       "      <th>5</th>\n",
       "      <td>D2</td>\n",
       "      <td>P1</td>\n",
       "      <td>2018-04-18 09:00:00</td>\n",
       "    </tr>\n",
       "    <tr>\n",
       "      <th>6</th>\n",
       "      <td>D2</td>\n",
       "      <td>P3</td>\n",
       "      <td>2018-03-18 09:00:00</td>\n",
       "    </tr>\n",
       "    <tr>\n",
       "      <th>7</th>\n",
       "      <td>D2</td>\n",
       "      <td>P3</td>\n",
       "      <td>2018-04-18 10:00:00</td>\n",
       "    </tr>\n",
       "  </tbody>\n",
       "</table>\n",
       "</div>"
      ],
      "text/plain": [
       "  doctor_id patient_id appointment_datetime\n",
       "0        D1         P1  2018-03-08 09:00:00\n",
       "1        D1         P1  2018-04-08 10:00:00\n",
       "2        D1         P2  2018-03-08 10:00:00\n",
       "3        D1         P1  2018-04-08 11:00:00\n",
       "4        D2         P1  2018-03-18 08:00:00\n",
       "5        D2         P1  2018-04-18 09:00:00\n",
       "6        D2         P3  2018-03-18 09:00:00\n",
       "7        D2         P3  2018-04-18 10:00:00"
      ]
     },
     "execution_count": 91,
     "metadata": {},
     "output_type": "execute_result"
    }
   ],
   "source": [
    "data"
   ]
  },
  {
   "cell_type": "code",
   "execution_count": 95,
   "metadata": {},
   "outputs": [],
   "source": [
    "data['date'] = data['appointment_datetime'].dt.date \n",
    "data['time'] = data['appointment_datetime'].dt.time"
   ]
  },
  {
   "cell_type": "code",
   "execution_count": 97,
   "metadata": {},
   "outputs": [
    {
     "data": {
      "text/plain": [
       "doctor_id                       string\n",
       "patient_id                      string\n",
       "appointment_datetime    datetime64[ns]\n",
       "date                            object\n",
       "time                            object\n",
       "dtype: object"
      ]
     },
     "execution_count": 97,
     "metadata": {},
     "output_type": "execute_result"
    }
   ],
   "source": [
    "data.dtypes"
   ]
  },
  {
   "cell_type": "code",
   "execution_count": 103,
   "metadata": {},
   "outputs": [
    {
     "name": "stdout",
     "output_type": "stream",
     "text": [
      "Appointment times must be between 08:00:00 and 16:00:00\n",
      "Appointment times must be between 08:00:00 and 16:00:00\n"
     ]
    },
    {
     "ename": "KeyboardInterrupt",
     "evalue": "Interrupted by user",
     "output_type": "error",
     "traceback": [
      "\u001b[0;31m---------------------------------------------------------------------------\u001b[0m",
      "\u001b[0;31mKeyboardInterrupt\u001b[0m                         Traceback (most recent call last)",
      "\u001b[0;32m<ipython-input-103-16f28e6e43ba>\u001b[0m in \u001b[0;36m<module>\u001b[0;34m\u001b[0m\n\u001b[0;32m----> 1\u001b[0;31m \u001b[0mtime_input\u001b[0m\u001b[0;34m(\u001b[0m\u001b[0;34m)\u001b[0m\u001b[0;34m\u001b[0m\u001b[0;34m\u001b[0m\u001b[0m\n\u001b[0m",
      "\u001b[0;32m<ipython-input-102-8a6c8d75356d>\u001b[0m in \u001b[0;36mtime_input\u001b[0;34m()\u001b[0m\n\u001b[1;32m     11\u001b[0m \u001b[0;32mdef\u001b[0m \u001b[0mtime_input\u001b[0m\u001b[0;34m(\u001b[0m\u001b[0;34m)\u001b[0m\u001b[0;34m:\u001b[0m\u001b[0;34m\u001b[0m\u001b[0;34m\u001b[0m\u001b[0m\n\u001b[1;32m     12\u001b[0m     \u001b[0;32mwhile\u001b[0m \u001b[0;32mTrue\u001b[0m\u001b[0;34m:\u001b[0m\u001b[0;34m\u001b[0m\u001b[0;34m\u001b[0m\u001b[0m\n\u001b[0;32m---> 13\u001b[0;31m         \u001b[0mtime\u001b[0m \u001b[0;34m=\u001b[0m \u001b[0mstr\u001b[0m\u001b[0;34m(\u001b[0m\u001b[0minput\u001b[0m\u001b[0;34m(\u001b[0m\u001b[0;34m\"Please enter your preferred time in HH:MM:SS: \"\u001b[0m\u001b[0;34m)\u001b[0m\u001b[0;34m)\u001b[0m\u001b[0;34m\u001b[0m\u001b[0;34m\u001b[0m\u001b[0m\n\u001b[0m\u001b[1;32m     14\u001b[0m         \u001b[0;32mif\u001b[0m \u001b[0mtime\u001b[0m \u001b[0;34m>\u001b[0m \u001b[0;34m'16:00:00'\u001b[0m \u001b[0;32mor\u001b[0m \u001b[0mtime\u001b[0m \u001b[0;34m<\u001b[0m \u001b[0;34m'08:00:00'\u001b[0m\u001b[0;34m:\u001b[0m\u001b[0;34m\u001b[0m\u001b[0;34m\u001b[0m\u001b[0m\n\u001b[1;32m     15\u001b[0m             \u001b[0mprint\u001b[0m\u001b[0;34m(\u001b[0m\u001b[0;34m'Appointment times must be between 08:00:00 and 16:00:00'\u001b[0m\u001b[0;34m)\u001b[0m\u001b[0;34m\u001b[0m\u001b[0;34m\u001b[0m\u001b[0m\n",
      "\u001b[0;32m~/.local/lib/python3.8/site-packages/ipykernel/kernelbase.py\u001b[0m in \u001b[0;36mraw_input\u001b[0;34m(self, prompt)\u001b[0m\n\u001b[1;32m    846\u001b[0m                 \u001b[0;34m\"raw_input was called, but this frontend does not support input requests.\"\u001b[0m\u001b[0;34m\u001b[0m\u001b[0;34m\u001b[0m\u001b[0m\n\u001b[1;32m    847\u001b[0m             )\n\u001b[0;32m--> 848\u001b[0;31m         return self._input_request(str(prompt),\n\u001b[0m\u001b[1;32m    849\u001b[0m             \u001b[0mself\u001b[0m\u001b[0;34m.\u001b[0m\u001b[0m_parent_ident\u001b[0m\u001b[0;34m,\u001b[0m\u001b[0;34m\u001b[0m\u001b[0;34m\u001b[0m\u001b[0m\n\u001b[1;32m    850\u001b[0m             \u001b[0mself\u001b[0m\u001b[0;34m.\u001b[0m\u001b[0m_parent_header\u001b[0m\u001b[0;34m,\u001b[0m\u001b[0;34m\u001b[0m\u001b[0;34m\u001b[0m\u001b[0m\n",
      "\u001b[0;32m~/.local/lib/python3.8/site-packages/ipykernel/kernelbase.py\u001b[0m in \u001b[0;36m_input_request\u001b[0;34m(self, prompt, ident, parent, password)\u001b[0m\n\u001b[1;32m    890\u001b[0m             \u001b[0;32mexcept\u001b[0m \u001b[0mKeyboardInterrupt\u001b[0m\u001b[0;34m:\u001b[0m\u001b[0;34m\u001b[0m\u001b[0;34m\u001b[0m\u001b[0m\n\u001b[1;32m    891\u001b[0m                 \u001b[0;31m# re-raise KeyboardInterrupt, to truncate traceback\u001b[0m\u001b[0;34m\u001b[0m\u001b[0;34m\u001b[0m\u001b[0;34m\u001b[0m\u001b[0m\n\u001b[0;32m--> 892\u001b[0;31m                 \u001b[0;32mraise\u001b[0m \u001b[0mKeyboardInterrupt\u001b[0m\u001b[0;34m(\u001b[0m\u001b[0;34m\"Interrupted by user\"\u001b[0m\u001b[0;34m)\u001b[0m \u001b[0;32mfrom\u001b[0m \u001b[0;32mNone\u001b[0m\u001b[0;34m\u001b[0m\u001b[0;34m\u001b[0m\u001b[0m\n\u001b[0m\u001b[1;32m    893\u001b[0m             \u001b[0;32mexcept\u001b[0m \u001b[0mException\u001b[0m \u001b[0;32mas\u001b[0m \u001b[0me\u001b[0m\u001b[0;34m:\u001b[0m\u001b[0;34m\u001b[0m\u001b[0;34m\u001b[0m\u001b[0m\n\u001b[1;32m    894\u001b[0m                 \u001b[0mself\u001b[0m\u001b[0;34m.\u001b[0m\u001b[0mlog\u001b[0m\u001b[0;34m.\u001b[0m\u001b[0mwarning\u001b[0m\u001b[0;34m(\u001b[0m\u001b[0;34m\"Invalid Message:\"\u001b[0m\u001b[0;34m,\u001b[0m \u001b[0mexc_info\u001b[0m\u001b[0;34m=\u001b[0m\u001b[0;32mTrue\u001b[0m\u001b[0;34m)\u001b[0m\u001b[0;34m\u001b[0m\u001b[0;34m\u001b[0m\u001b[0m\n",
      "\u001b[0;31mKeyboardInterrupt\u001b[0m: Interrupted by user"
     ]
    }
   ],
   "source": [
    "time_input()"
   ]
  }
 ],
 "metadata": {
  "interpreter": {
   "hash": "31f2aee4e71d21fbe5cf8b01ff0e069b9275f58929596ceb00d14d90e3e16cd6"
  },
  "kernelspec": {
   "display_name": "Python 3.8.10 64-bit",
   "language": "python",
   "name": "python3"
  },
  "language_info": {
   "codemirror_mode": {
    "name": "ipython",
    "version": 3
   },
   "file_extension": ".py",
   "mimetype": "text/x-python",
   "name": "python",
   "nbconvert_exporter": "python",
   "pygments_lexer": "ipython3",
   "version": "3.8.10"
  },
  "orig_nbformat": 4
 },
 "nbformat": 4,
 "nbformat_minor": 2
}
